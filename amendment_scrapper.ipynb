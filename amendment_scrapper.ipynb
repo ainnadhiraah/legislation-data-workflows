{
 "cells": [
  {
   "cell_type": "code",
   "execution_count": 1,
   "metadata": {},
   "outputs": [
    {
     "name": "stdout",
     "output_type": "stream",
     "text": [
      "c:\\Users\\maimranj\\Desktop\\BIMB\\backend\\legisltaion\\amendment act\n"
     ]
    }
   ],
   "source": [
    "from bs4 import BeautifulSoup\n",
    "import os\n",
    "import pandas as pd\n",
    "import numpy as np\n",
    "import re\n",
    "import random\n",
    "from random import randint\n",
    "import time #delay\n",
    "from selenium import webdriver\n",
    "from selenium.webdriver.common.by import By\n",
    "from selenium.webdriver.edge.options import Options\n",
    "from selenium.webdriver.support.ui import Select\n",
    "from tqdm import tqdm\n",
    " \n",
    "print(os.getcwd())"
   ]
  },
  {
   "cell_type": "code",
   "execution_count": 2,
   "metadata": {},
   "outputs": [],
   "source": [
    "driver=webdriver.Edge()"
   ]
  },
  {
   "cell_type": "code",
   "execution_count": 3,
   "metadata": {},
   "outputs": [
    {
     "name": "stdout",
     "output_type": "stream",
     "text": [
      "    Act No                                              Title  \\\n",
      "0    A1739  AKTA BEKALAN ELEKTRIK (PINDAAN) 2024\\nELECTRIC...   \n",
      "1    A1738  AKTA PEMBAYARAN DAN ADJUDIKASI INDUSTRI \\nPEMB...   \n",
      "2    A1737  AKTA TIMBANG TARA (PINDAAN) 2024\\nARBITRATION ...   \n",
      "3    A1736  AKTA KESALAHAN KESELAMATAN \\n(LANGKAH-LANGKAH ...   \n",
      "4    A1735  AKTA ANGKATAN TENTERA (PINDAAN) 2024\\nARMED FO...   \n",
      "..     ...                                                ...   \n",
      "349  A1396  AKTA PERBEKALAN TAMBAHAN (2011) 2011\\nSUPPLEME...   \n",
      "350  A1395  AKTA TIMBANG TARA (PINDAAN) 2011\\nARBITRATION ...   \n",
      "351  A1394  AKTA PERKAPALAN SAUDAGAR (PENCEMARAN MINYAK) (...   \n",
      "352  A1393  AKTA PERKAPALAN SAUDAGAR (PINDAAN DAN PERLUASA...   \n",
      "353  A1392  AKTA PERBEKALAN TAMBAHAN (2010) 2011\\nSUPPLEME...   \n",
      "\n",
      "    Date of Royal Assent Publication Date  \\\n",
      "0             02/07/2024       26/11/2024   \n",
      "1             23/10/2024       01/11/2024   \n",
      "2             23/10/2024       01/11/2024   \n",
      "3             23/10/2024       01/11/2024   \n",
      "4             23/10/2024       01/11/2024   \n",
      "..                   ...              ...   \n",
      "349           18/07/2011       21/07/2011   \n",
      "350           23/05/2011       02/06/2011   \n",
      "351           23/05/2011       02/06/2011   \n",
      "352           23/05/2011       02/06/2011   \n",
      "353           23/05/2011       02/06/2011   \n",
      "\n",
      "                                  Date of Commencement  \\\n",
      "0                                     NOT YET IN FORCE   \n",
      "1                                     NOT YET IN FORCE   \n",
      "2                                     NOT YET IN FORCE   \n",
      "3                                     NOT YET IN FORCE   \n",
      "4                                     NOT YET IN FORCE   \n",
      "..                                                 ...   \n",
      "349                                         22/07/2011   \n",
      "350                     01/07/2011 [P.U. (B) 342/2011]   \n",
      "351                        1/3/2014 [P.U. (B) 66/2014]   \n",
      "352  1/3/2014 [P.U. (B) 65/2014] - (Peninsular Mala...   \n",
      "353                                         06/03/2011   \n",
      "\n",
      "                                           BM PDF Link  \\\n",
      "0    https://lom.agc.gov.my../../../ilims/upload/po...   \n",
      "1    https://lom.agc.gov.my../../../ilims/upload/po...   \n",
      "2    https://lom.agc.gov.my../../../ilims/upload/po...   \n",
      "3    https://lom.agc.gov.my../../../ilims/upload/po...   \n",
      "4    https://lom.agc.gov.my../../../ilims/upload/po...   \n",
      "..                                                 ...   \n",
      "349  https://lom.agc.gov.my../../../ilims/upload/po...   \n",
      "350  https://lom.agc.gov.my../../../ilims/upload/po...   \n",
      "351  https://lom.agc.gov.my../../../ilims/upload/po...   \n",
      "352  https://lom.agc.gov.my../../../ilims/upload/po...   \n",
      "353  https://lom.agc.gov.my../../../ilims/upload/po...   \n",
      "\n",
      "                                           EN PDF Link  \n",
      "0    https://lom.agc.gov.my../../../ilims/upload/po...  \n",
      "1    https://lom.agc.gov.my../../../ilims/upload/po...  \n",
      "2    https://lom.agc.gov.my../../../ilims/upload/po...  \n",
      "3    https://lom.agc.gov.my../../../ilims/upload/po...  \n",
      "4    https://lom.agc.gov.my../../../ilims/upload/po...  \n",
      "..                                                 ...  \n",
      "349  https://lom.agc.gov.my../../../ilims/upload/po...  \n",
      "350  https://lom.agc.gov.my../../../ilims/upload/po...  \n",
      "351  https://lom.agc.gov.my../../../ilims/upload/po...  \n",
      "352  https://lom.agc.gov.my../../../ilims/upload/po...  \n",
      "353  https://lom.agc.gov.my../../../ilims/upload/po...  \n",
      "\n",
      "[354 rows x 7 columns]\n"
     ]
    }
   ],
   "source": [
    "driver=webdriver.Edge()\n",
    "\n",
    "act_no = []\n",
    "title = []\n",
    "date_of_royal_assent = []\n",
    "publication_date = []\n",
    "date_of_commencement = []\n",
    "bm_link = []\n",
    "en_link = []\n",
    "\n",
    "url = 'https://lom.agc.gov.my/principal.php?type=amendment'\n",
    "driver.get(url)\n",
    "time.sleep(random.randint(5, 10))\n",
    "\n",
    "# Loop through all 36 pages\n",
    "for page in range(1, 37):\n",
    "    soup = BeautifulSoup(driver.page_source, 'html.parser')\n",
    "    amendment_act_list = soup.find('table', attrs={'class': 'table table-striped table-bordered dataTable'}).find_all('tr')[1:]\n",
    "\n",
    "    for amendment_act in amendment_act_list:\n",
    "        cols = amendment_act.find_all('td')\n",
    "\n",
    "        if len(cols) >= 5:\n",
    "            act_no.append(cols[0].get_text(strip=True))\n",
    "            titles = cols[1].find_all('a')\n",
    "            if len(titles) >= 2:\n",
    "                title.append(f\"{titles[0].get_text(strip=True)}\\n{titles[1].get_text(strip=True)}\")\n",
    "            else:\n",
    "                title.append(titles[0].get_text(strip=True))\n",
    "\n",
    "            date_of_royal_assent.append(cols[2].get_text(strip=True))\n",
    "            publication_date.append(cols[3].get_text(strip=True))\n",
    "            date_of_commencement.append(cols[4].get_text(strip=True))\n",
    "\n",
    "            pdf_links = cols[5].find_all('a', href=True)\n",
    "            bm_pdf_link = next((link['href'] for link in pdf_links if \"BM\" in link['href'] and link['href'].endswith(\".pdf\")), 'N/A')\n",
    "            en_pdf_link = next((link['href'] for link in pdf_links if \"BI\" in link['href'] and link['href'].endswith(\".pdf\")), 'N/A')\n",
    "\n",
    "            bm_link.append(f\"https://lom.agc.gov.my{bm_pdf_link}\" if bm_pdf_link != 'N/A' else 'N/A')\n",
    "            en_link.append(f\"https://lom.agc.gov.my{en_pdf_link}\" if en_pdf_link != 'N/A' else 'N/A')\n",
    "\n",
    "    if page < 36:\n",
    "        select_element = Select(driver.find_element(By.CSS_SELECTOR, 'div.dataTables_paginate select'))\n",
    "        select_element.select_by_value(str(page + 1))\n",
    "        time.sleep(random.randint(5, 10))\n",
    "\n",
    "amend_df = pd.DataFrame({\n",
    "    'Act No': act_no,\n",
    "    'Title': title,\n",
    "    'Date of Royal Assent': date_of_royal_assent,\n",
    "    'Publication Date': publication_date,\n",
    "    'Date of Commencement': date_of_commencement,\n",
    "    'BM PDF Link': bm_link,\n",
    "    'EN PDF Link': en_link\n",
    "})\n",
    "\n",
    "print(amend_df)"
   ]
  },
  {
   "cell_type": "code",
   "execution_count": 4,
   "metadata": {},
   "outputs": [],
   "source": [
    "driver.close()"
   ]
  },
  {
   "cell_type": "code",
   "execution_count": 6,
   "metadata": {},
   "outputs": [],
   "source": [
    "amend_df.to_csv('amendment_act.csv')"
   ]
  }
 ],
 "metadata": {
  "kernelspec": {
   "display_name": "backend",
   "language": "python",
   "name": "python3"
  },
  "language_info": {
   "codemirror_mode": {
    "name": "ipython",
    "version": 3
   },
   "file_extension": ".py",
   "mimetype": "text/x-python",
   "name": "python",
   "nbconvert_exporter": "python",
   "pygments_lexer": "ipython3",
   "version": "3.10.15"
  }
 },
 "nbformat": 4,
 "nbformat_minor": 2
}
